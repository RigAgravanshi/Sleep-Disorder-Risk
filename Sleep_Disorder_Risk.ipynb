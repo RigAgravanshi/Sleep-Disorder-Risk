{
 "cells": [
  {
   "cell_type": "code",
   "execution_count": 428,
   "id": "5af1e14c-7249-4c80-a50e-78bc68f00041",
   "metadata": {},
   "outputs": [],
   "source": [
    "import pandas as pd\n",
    "import numpy as np\n",
    "import matplotlib.pyplot as plt\n",
    "import seaborn as sns\n",
    "\n",
    "from sklearn.preprocessing import OrdinalEncoder\n",
    "from sklearn.model_selection import train_test_split, GridSearchCV\n",
    "from sklearn.preprocessing import StandardScaler\n",
    "\n",
    "from sklearn.linear_model import LogisticRegression\n",
    "from sklearn.neighbors import KNeighborsClassifier\n",
    "from sklearn.ensemble import RandomForestClassifier \n",
    "from sklearn.svm import SVC\n",
    "from xgboost import XGBClassifier\n",
    "from sklearn.metrics import accuracy_score,f1_score,classification_report"
   ]
  },
  {
   "cell_type": "code",
   "execution_count": 430,
   "id": "0b7c469b-0df9-4fc0-ac09-b02698a2920c",
   "metadata": {},
   "outputs": [],
   "source": [
    "df = pd.read_csv(r\"C:\\Rig\\Pandora's BOX\\ML ig\\Datasets\\Sleep_health_and_lifestyle_dataset.csv\")"
   ]
  },
  {
   "cell_type": "markdown",
   "id": "3521c3e6-4e50-44ee-bf0c-d2b8eb7d4d74",
   "metadata": {},
   "source": [
    "## Data Preprocessing"
   ]
  },
  {
   "cell_type": "code",
   "execution_count": 432,
   "id": "32666c0f-7ad7-4d21-af9a-58ca1cd8ba24",
   "metadata": {},
   "outputs": [
    {
     "data": {
      "text/html": [
       "<div>\n",
       "<style scoped>\n",
       "    .dataframe tbody tr th:only-of-type {\n",
       "        vertical-align: middle;\n",
       "    }\n",
       "\n",
       "    .dataframe tbody tr th {\n",
       "        vertical-align: top;\n",
       "    }\n",
       "\n",
       "    .dataframe thead th {\n",
       "        text-align: right;\n",
       "    }\n",
       "</style>\n",
       "<table border=\"1\" class=\"dataframe\">\n",
       "  <thead>\n",
       "    <tr style=\"text-align: right;\">\n",
       "      <th></th>\n",
       "      <th>Person ID</th>\n",
       "      <th>Gender</th>\n",
       "      <th>Age</th>\n",
       "      <th>Occupation</th>\n",
       "      <th>Sleep Duration</th>\n",
       "      <th>Quality of Sleep</th>\n",
       "      <th>Physical Activity Level</th>\n",
       "      <th>Stress Level</th>\n",
       "      <th>BMI Category</th>\n",
       "      <th>Blood Pressure</th>\n",
       "      <th>Heart Rate</th>\n",
       "      <th>Daily Steps</th>\n",
       "      <th>Sleep Disorder</th>\n",
       "    </tr>\n",
       "  </thead>\n",
       "  <tbody>\n",
       "    <tr>\n",
       "      <th>90</th>\n",
       "      <td>91</td>\n",
       "      <td>Male</td>\n",
       "      <td>35</td>\n",
       "      <td>Engineer</td>\n",
       "      <td>7.3</td>\n",
       "      <td>8</td>\n",
       "      <td>60</td>\n",
       "      <td>4</td>\n",
       "      <td>Normal</td>\n",
       "      <td>125/80</td>\n",
       "      <td>65</td>\n",
       "      <td>5000</td>\n",
       "      <td>NaN</td>\n",
       "    </tr>\n",
       "    <tr>\n",
       "      <th>273</th>\n",
       "      <td>274</td>\n",
       "      <td>Female</td>\n",
       "      <td>49</td>\n",
       "      <td>Nurse</td>\n",
       "      <td>6.2</td>\n",
       "      <td>6</td>\n",
       "      <td>90</td>\n",
       "      <td>8</td>\n",
       "      <td>Overweight</td>\n",
       "      <td>140/95</td>\n",
       "      <td>75</td>\n",
       "      <td>10000</td>\n",
       "      <td>Sleep Apnea</td>\n",
       "    </tr>\n",
       "    <tr>\n",
       "      <th>61</th>\n",
       "      <td>62</td>\n",
       "      <td>Male</td>\n",
       "      <td>32</td>\n",
       "      <td>Doctor</td>\n",
       "      <td>6.0</td>\n",
       "      <td>6</td>\n",
       "      <td>30</td>\n",
       "      <td>8</td>\n",
       "      <td>Normal</td>\n",
       "      <td>125/80</td>\n",
       "      <td>72</td>\n",
       "      <td>5000</td>\n",
       "      <td>NaN</td>\n",
       "    </tr>\n",
       "    <tr>\n",
       "      <th>361</th>\n",
       "      <td>362</td>\n",
       "      <td>Female</td>\n",
       "      <td>59</td>\n",
       "      <td>Nurse</td>\n",
       "      <td>8.2</td>\n",
       "      <td>9</td>\n",
       "      <td>75</td>\n",
       "      <td>3</td>\n",
       "      <td>Overweight</td>\n",
       "      <td>140/95</td>\n",
       "      <td>68</td>\n",
       "      <td>7000</td>\n",
       "      <td>Sleep Apnea</td>\n",
       "    </tr>\n",
       "    <tr>\n",
       "      <th>279</th>\n",
       "      <td>280</td>\n",
       "      <td>Female</td>\n",
       "      <td>50</td>\n",
       "      <td>Engineer</td>\n",
       "      <td>8.3</td>\n",
       "      <td>9</td>\n",
       "      <td>30</td>\n",
       "      <td>3</td>\n",
       "      <td>Normal</td>\n",
       "      <td>125/80</td>\n",
       "      <td>65</td>\n",
       "      <td>5000</td>\n",
       "      <td>NaN</td>\n",
       "    </tr>\n",
       "  </tbody>\n",
       "</table>\n",
       "</div>"
      ],
      "text/plain": [
       "     Person ID  Gender  Age Occupation  Sleep Duration  Quality of Sleep  \\\n",
       "90          91    Male   35   Engineer             7.3                 8   \n",
       "273        274  Female   49      Nurse             6.2                 6   \n",
       "61          62    Male   32     Doctor             6.0                 6   \n",
       "361        362  Female   59      Nurse             8.2                 9   \n",
       "279        280  Female   50   Engineer             8.3                 9   \n",
       "\n",
       "     Physical Activity Level  Stress Level BMI Category Blood Pressure  \\\n",
       "90                        60             4       Normal         125/80   \n",
       "273                       90             8   Overweight         140/95   \n",
       "61                        30             8       Normal         125/80   \n",
       "361                       75             3   Overweight         140/95   \n",
       "279                       30             3       Normal         125/80   \n",
       "\n",
       "     Heart Rate  Daily Steps Sleep Disorder  \n",
       "90           65         5000            NaN  \n",
       "273          75        10000    Sleep Apnea  \n",
       "61           72         5000            NaN  \n",
       "361          68         7000    Sleep Apnea  \n",
       "279          65         5000            NaN  "
      ]
     },
     "execution_count": 432,
     "metadata": {},
     "output_type": "execute_result"
    }
   ],
   "source": [
    "df.sample(5)"
   ]
  },
  {
   "cell_type": "code",
   "execution_count": 433,
   "id": "e65bbb2d-2863-4e7b-bfa4-c1a7884c288f",
   "metadata": {},
   "outputs": [
    {
     "data": {
      "text/plain": [
       "(374, 13)"
      ]
     },
     "execution_count": 433,
     "metadata": {},
     "output_type": "execute_result"
    }
   ],
   "source": [
    "df.shape"
   ]
  },
  {
   "cell_type": "markdown",
   "id": "21166d4d-44f6-4fbc-9c59-f26acae5b02e",
   "metadata": {},
   "source": []
  },
  {
   "cell_type": "code",
   "execution_count": 434,
   "id": "290b9756-1069-46f8-b3b1-b0538dc5bac4",
   "metadata": {},
   "outputs": [
    {
     "data": {
      "text/html": [
       "<div>\n",
       "<style scoped>\n",
       "    .dataframe tbody tr th:only-of-type {\n",
       "        vertical-align: middle;\n",
       "    }\n",
       "\n",
       "    .dataframe tbody tr th {\n",
       "        vertical-align: top;\n",
       "    }\n",
       "\n",
       "    .dataframe thead th {\n",
       "        text-align: right;\n",
       "    }\n",
       "</style>\n",
       "<table border=\"1\" class=\"dataframe\">\n",
       "  <thead>\n",
       "    <tr style=\"text-align: right;\">\n",
       "      <th></th>\n",
       "      <th>Person ID</th>\n",
       "      <th>Age</th>\n",
       "      <th>Sleep Duration</th>\n",
       "      <th>Quality of Sleep</th>\n",
       "      <th>Physical Activity Level</th>\n",
       "      <th>Stress Level</th>\n",
       "      <th>Heart Rate</th>\n",
       "      <th>Daily Steps</th>\n",
       "    </tr>\n",
       "  </thead>\n",
       "  <tbody>\n",
       "    <tr>\n",
       "      <th>count</th>\n",
       "      <td>374.000000</td>\n",
       "      <td>374.000000</td>\n",
       "      <td>374.000000</td>\n",
       "      <td>374.000000</td>\n",
       "      <td>374.000000</td>\n",
       "      <td>374.000000</td>\n",
       "      <td>374.000000</td>\n",
       "      <td>374.000000</td>\n",
       "    </tr>\n",
       "    <tr>\n",
       "      <th>mean</th>\n",
       "      <td>187.500000</td>\n",
       "      <td>42.184492</td>\n",
       "      <td>7.132086</td>\n",
       "      <td>7.312834</td>\n",
       "      <td>59.171123</td>\n",
       "      <td>5.385027</td>\n",
       "      <td>70.165775</td>\n",
       "      <td>6816.844920</td>\n",
       "    </tr>\n",
       "    <tr>\n",
       "      <th>std</th>\n",
       "      <td>108.108742</td>\n",
       "      <td>8.673133</td>\n",
       "      <td>0.795657</td>\n",
       "      <td>1.196956</td>\n",
       "      <td>20.830804</td>\n",
       "      <td>1.774526</td>\n",
       "      <td>4.135676</td>\n",
       "      <td>1617.915679</td>\n",
       "    </tr>\n",
       "    <tr>\n",
       "      <th>min</th>\n",
       "      <td>1.000000</td>\n",
       "      <td>27.000000</td>\n",
       "      <td>5.800000</td>\n",
       "      <td>4.000000</td>\n",
       "      <td>30.000000</td>\n",
       "      <td>3.000000</td>\n",
       "      <td>65.000000</td>\n",
       "      <td>3000.000000</td>\n",
       "    </tr>\n",
       "    <tr>\n",
       "      <th>25%</th>\n",
       "      <td>94.250000</td>\n",
       "      <td>35.250000</td>\n",
       "      <td>6.400000</td>\n",
       "      <td>6.000000</td>\n",
       "      <td>45.000000</td>\n",
       "      <td>4.000000</td>\n",
       "      <td>68.000000</td>\n",
       "      <td>5600.000000</td>\n",
       "    </tr>\n",
       "    <tr>\n",
       "      <th>50%</th>\n",
       "      <td>187.500000</td>\n",
       "      <td>43.000000</td>\n",
       "      <td>7.200000</td>\n",
       "      <td>7.000000</td>\n",
       "      <td>60.000000</td>\n",
       "      <td>5.000000</td>\n",
       "      <td>70.000000</td>\n",
       "      <td>7000.000000</td>\n",
       "    </tr>\n",
       "    <tr>\n",
       "      <th>75%</th>\n",
       "      <td>280.750000</td>\n",
       "      <td>50.000000</td>\n",
       "      <td>7.800000</td>\n",
       "      <td>8.000000</td>\n",
       "      <td>75.000000</td>\n",
       "      <td>7.000000</td>\n",
       "      <td>72.000000</td>\n",
       "      <td>8000.000000</td>\n",
       "    </tr>\n",
       "    <tr>\n",
       "      <th>max</th>\n",
       "      <td>374.000000</td>\n",
       "      <td>59.000000</td>\n",
       "      <td>8.500000</td>\n",
       "      <td>9.000000</td>\n",
       "      <td>90.000000</td>\n",
       "      <td>8.000000</td>\n",
       "      <td>86.000000</td>\n",
       "      <td>10000.000000</td>\n",
       "    </tr>\n",
       "  </tbody>\n",
       "</table>\n",
       "</div>"
      ],
      "text/plain": [
       "        Person ID         Age  Sleep Duration  Quality of Sleep  \\\n",
       "count  374.000000  374.000000      374.000000        374.000000   \n",
       "mean   187.500000   42.184492        7.132086          7.312834   \n",
       "std    108.108742    8.673133        0.795657          1.196956   \n",
       "min      1.000000   27.000000        5.800000          4.000000   \n",
       "25%     94.250000   35.250000        6.400000          6.000000   \n",
       "50%    187.500000   43.000000        7.200000          7.000000   \n",
       "75%    280.750000   50.000000        7.800000          8.000000   \n",
       "max    374.000000   59.000000        8.500000          9.000000   \n",
       "\n",
       "       Physical Activity Level  Stress Level  Heart Rate   Daily Steps  \n",
       "count               374.000000    374.000000  374.000000    374.000000  \n",
       "mean                 59.171123      5.385027   70.165775   6816.844920  \n",
       "std                  20.830804      1.774526    4.135676   1617.915679  \n",
       "min                  30.000000      3.000000   65.000000   3000.000000  \n",
       "25%                  45.000000      4.000000   68.000000   5600.000000  \n",
       "50%                  60.000000      5.000000   70.000000   7000.000000  \n",
       "75%                  75.000000      7.000000   72.000000   8000.000000  \n",
       "max                  90.000000      8.000000   86.000000  10000.000000  "
      ]
     },
     "execution_count": 434,
     "metadata": {},
     "output_type": "execute_result"
    }
   ],
   "source": [
    "df.describe()"
   ]
  },
  {
   "cell_type": "code",
   "execution_count": 435,
   "id": "ad6d33cc-b703-483a-8524-c4b370282aba",
   "metadata": {},
   "outputs": [
    {
     "data": {
      "text/plain": [
       "Person ID                    0\n",
       "Gender                       0\n",
       "Age                          0\n",
       "Occupation                   0\n",
       "Sleep Duration               0\n",
       "Quality of Sleep             0\n",
       "Physical Activity Level      0\n",
       "Stress Level                 0\n",
       "BMI Category                 0\n",
       "Blood Pressure               0\n",
       "Heart Rate                   0\n",
       "Daily Steps                  0\n",
       "Sleep Disorder             219\n",
       "dtype: int64"
      ]
     },
     "execution_count": 435,
     "metadata": {},
     "output_type": "execute_result"
    }
   ],
   "source": [
    "df.isnull().sum()"
   ]
  },
  {
   "cell_type": "markdown",
   "id": "3d2cdb00-8088-4e72-a934-967f6d559e2b",
   "metadata": {},
   "source": [
    "The NaN values in Sleep Disorder refer to 'No disorder'. Let's fill 'em up."
   ]
  },
  {
   "cell_type": "code",
   "execution_count": 437,
   "id": "e989ef20-c913-4580-9719-d50c3acd4bc4",
   "metadata": {},
   "outputs": [],
   "source": [
    "df['Sleep Disorder'] = df['Sleep Disorder'].fillna('None')"
   ]
  },
  {
   "cell_type": "code",
   "execution_count": 438,
   "id": "480f7aaa-b4bb-4609-a57b-86700ba7061c",
   "metadata": {},
   "outputs": [
    {
     "data": {
      "text/plain": [
       "Gender             2\n",
       "Occupation        11\n",
       "BMI Category       4\n",
       "Blood Pressure    25\n",
       "Sleep Disorder     3\n",
       "dtype: int64"
      ]
     },
     "execution_count": 438,
     "metadata": {},
     "output_type": "execute_result"
    }
   ],
   "source": [
    "df.select_dtypes(include='object').nunique()"
   ]
  },
  {
   "cell_type": "code",
   "execution_count": 439,
   "id": "6b932bc1-d937-4c70-b8ea-fc9c69e53a8b",
   "metadata": {},
   "outputs": [
    {
     "data": {
      "text/plain": [
       "array(['Overweight', 'Normal', 'Obese', 'Normal Weight'], dtype=object)"
      ]
     },
     "execution_count": 439,
     "metadata": {},
     "output_type": "execute_result"
    }
   ],
   "source": [
    "df['BMI Category'].unique()"
   ]
  },
  {
   "cell_type": "code",
   "execution_count": 440,
   "id": "ba742fac-bbaa-4719-86a0-3b4cef7aac32",
   "metadata": {},
   "outputs": [],
   "source": [
    "df['BMI Category'] = df['BMI Category'].replace('Normal Weight', 'Normal')"
   ]
  },
  {
   "cell_type": "code",
   "execution_count": 441,
   "id": "fae2a7e2-f2bf-47ef-bce6-769f4df85644",
   "metadata": {},
   "outputs": [],
   "source": [
    "split_bp = df['Blood Pressure'].str.split('/',expand=True).astype(int)\n",
    "df['Upper BP'] = split_bp[0]\n",
    "df['Lower BP'] = split_bp[1]"
   ]
  },
  {
   "cell_type": "code",
   "execution_count": 442,
   "id": "90ca55cb-34f6-4077-a8ef-685eeef4cf43",
   "metadata": {},
   "outputs": [],
   "source": [
    "df = df.drop(columns=['Person ID','Blood Pressure', 'Occupation'])"
   ]
  },
  {
   "cell_type": "code",
   "execution_count": 443,
   "id": "33714196-d1ee-44f2-b4db-134d2f7fbc43",
   "metadata": {},
   "outputs": [
    {
     "data": {
      "text/html": [
       "<div>\n",
       "<style scoped>\n",
       "    .dataframe tbody tr th:only-of-type {\n",
       "        vertical-align: middle;\n",
       "    }\n",
       "\n",
       "    .dataframe tbody tr th {\n",
       "        vertical-align: top;\n",
       "    }\n",
       "\n",
       "    .dataframe thead th {\n",
       "        text-align: right;\n",
       "    }\n",
       "</style>\n",
       "<table border=\"1\" class=\"dataframe\">\n",
       "  <thead>\n",
       "    <tr style=\"text-align: right;\">\n",
       "      <th></th>\n",
       "      <th>Gender</th>\n",
       "      <th>Age</th>\n",
       "      <th>Sleep Duration</th>\n",
       "      <th>Quality of Sleep</th>\n",
       "      <th>Physical Activity Level</th>\n",
       "      <th>Stress Level</th>\n",
       "      <th>BMI Category</th>\n",
       "      <th>Heart Rate</th>\n",
       "      <th>Daily Steps</th>\n",
       "      <th>Sleep Disorder</th>\n",
       "      <th>Upper BP</th>\n",
       "      <th>Lower BP</th>\n",
       "    </tr>\n",
       "  </thead>\n",
       "  <tbody>\n",
       "    <tr>\n",
       "      <th>0</th>\n",
       "      <td>Male</td>\n",
       "      <td>27</td>\n",
       "      <td>6.1</td>\n",
       "      <td>6</td>\n",
       "      <td>42</td>\n",
       "      <td>6</td>\n",
       "      <td>Overweight</td>\n",
       "      <td>77</td>\n",
       "      <td>4200</td>\n",
       "      <td>None</td>\n",
       "      <td>126</td>\n",
       "      <td>83</td>\n",
       "    </tr>\n",
       "    <tr>\n",
       "      <th>1</th>\n",
       "      <td>Male</td>\n",
       "      <td>28</td>\n",
       "      <td>6.2</td>\n",
       "      <td>6</td>\n",
       "      <td>60</td>\n",
       "      <td>8</td>\n",
       "      <td>Normal</td>\n",
       "      <td>75</td>\n",
       "      <td>10000</td>\n",
       "      <td>None</td>\n",
       "      <td>125</td>\n",
       "      <td>80</td>\n",
       "    </tr>\n",
       "    <tr>\n",
       "      <th>2</th>\n",
       "      <td>Male</td>\n",
       "      <td>28</td>\n",
       "      <td>6.2</td>\n",
       "      <td>6</td>\n",
       "      <td>60</td>\n",
       "      <td>8</td>\n",
       "      <td>Normal</td>\n",
       "      <td>75</td>\n",
       "      <td>10000</td>\n",
       "      <td>None</td>\n",
       "      <td>125</td>\n",
       "      <td>80</td>\n",
       "    </tr>\n",
       "    <tr>\n",
       "      <th>3</th>\n",
       "      <td>Male</td>\n",
       "      <td>28</td>\n",
       "      <td>5.9</td>\n",
       "      <td>4</td>\n",
       "      <td>30</td>\n",
       "      <td>8</td>\n",
       "      <td>Obese</td>\n",
       "      <td>85</td>\n",
       "      <td>3000</td>\n",
       "      <td>Sleep Apnea</td>\n",
       "      <td>140</td>\n",
       "      <td>90</td>\n",
       "    </tr>\n",
       "    <tr>\n",
       "      <th>4</th>\n",
       "      <td>Male</td>\n",
       "      <td>28</td>\n",
       "      <td>5.9</td>\n",
       "      <td>4</td>\n",
       "      <td>30</td>\n",
       "      <td>8</td>\n",
       "      <td>Obese</td>\n",
       "      <td>85</td>\n",
       "      <td>3000</td>\n",
       "      <td>Sleep Apnea</td>\n",
       "      <td>140</td>\n",
       "      <td>90</td>\n",
       "    </tr>\n",
       "  </tbody>\n",
       "</table>\n",
       "</div>"
      ],
      "text/plain": [
       "  Gender  Age  Sleep Duration  Quality of Sleep  Physical Activity Level  \\\n",
       "0   Male   27             6.1                 6                       42   \n",
       "1   Male   28             6.2                 6                       60   \n",
       "2   Male   28             6.2                 6                       60   \n",
       "3   Male   28             5.9                 4                       30   \n",
       "4   Male   28             5.9                 4                       30   \n",
       "\n",
       "   Stress Level BMI Category  Heart Rate  Daily Steps Sleep Disorder  \\\n",
       "0             6   Overweight          77         4200           None   \n",
       "1             8       Normal          75        10000           None   \n",
       "2             8       Normal          75        10000           None   \n",
       "3             8        Obese          85         3000    Sleep Apnea   \n",
       "4             8        Obese          85         3000    Sleep Apnea   \n",
       "\n",
       "   Upper BP  Lower BP  \n",
       "0       126        83  \n",
       "1       125        80  \n",
       "2       125        80  \n",
       "3       140        90  \n",
       "4       140        90  "
      ]
     },
     "execution_count": 443,
     "metadata": {},
     "output_type": "execute_result"
    }
   ],
   "source": [
    "df.head()"
   ]
  },
  {
   "cell_type": "code",
   "execution_count": 444,
   "id": "94ba0096-7fcd-49d1-a77a-b5c9966a4859",
   "metadata": {},
   "outputs": [
    {
     "data": {
      "text/plain": [
       "BMI Category\n",
       "Normal        216\n",
       "Overweight    148\n",
       "Obese          10\n",
       "Name: count, dtype: int64"
      ]
     },
     "execution_count": 444,
     "metadata": {},
     "output_type": "execute_result"
    }
   ],
   "source": [
    "df['BMI Category'].value_counts()"
   ]
  },
  {
   "cell_type": "markdown",
   "id": "226e64d3-3b0b-465a-a905-b9a0611e6102",
   "metadata": {},
   "source": [
    "We have very less sample of 'Obese' category"
   ]
  },
  {
   "cell_type": "code",
   "execution_count": 446,
   "id": "ccd6cfc3-5213-48bc-a173-4658cb551e1f",
   "metadata": {},
   "outputs": [
    {
     "data": {
      "text/plain": [
       "Gender\n",
       "Male      189\n",
       "Female    185\n",
       "Name: count, dtype: int64"
      ]
     },
     "execution_count": 446,
     "metadata": {},
     "output_type": "execute_result"
    }
   ],
   "source": [
    "df['Gender'].value_counts()"
   ]
  },
  {
   "cell_type": "code",
   "execution_count": 447,
   "id": "4d5b8546-aa8a-40ac-8b17-c9b4bd87038e",
   "metadata": {},
   "outputs": [
    {
     "data": {
      "text/plain": [
       "<Axes: xlabel='Sleep Disorder', ylabel='count'>"
      ]
     },
     "execution_count": 447,
     "metadata": {},
     "output_type": "execute_result"
    },
    {
     "data": {
      "image/png": "[encoded data removed]",
      "text/plain": [
       "<Figure size 640x480 with 1 Axes>"
      ]
     },
     "metadata": {},
     "output_type": "display_data"
    }
   ],
   "source": [
    "sns.countplot(df,x = 'Sleep Disorder',hue='Sleep Disorder', palette='pastel' )"
   ]
  },
  {
   "cell_type": "code",
   "execution_count": 448,
   "id": "98e5a1a6-7899-4b09-846f-e8159352d9c7",
   "metadata": {},
   "outputs": [
    {
     "data": {
      "text/plain": [
       "<Axes: >"
      ]
     },
     "execution_count": 448,
     "metadata": {},
     "output_type": "execute_result"
    },
    {
     "data": {
      "image/png": "[encoded data removed]",
      "text/plain": [
       "<Figure size 640x480 with 2 Axes>"
      ]
     },
     "metadata": {},
     "output_type": "display_data"
    }
   ],
   "source": [
    "num_cols = ['Age', 'Sleep Duration', 'Quality of Sleep', 'Physical Activity Level', \n",
    "                'Stress Level', 'Heart Rate', 'Daily Steps','Upper BP']\n",
    "\n",
    "sns.heatmap(df[num_cols].corr(), annot=True, cmap='coolwarm')"
   ]
  },
  {
   "cell_type": "code",
   "execution_count": 449,
   "id": "9fee402a-ffe6-4c24-bad6-3891c489e5df",
   "metadata": {},
   "outputs": [
    {
     "data": {
      "text/plain": [
       "<Axes: xlabel='BMI Category', ylabel='Sleep Duration'>"
      ]
     },
     "execution_count": 449,
     "metadata": {},
     "output_type": "execute_result"
    },
    {
     "data": {
      "image/png": "[encoded data removed]",
      "text/plain": [
       "<Figure size 640x480 with 1 Axes>"
      ]
     },
     "metadata": {},
     "output_type": "display_data"
    }
   ],
   "source": [
    "sns.scatterplot(df, x='BMI Category',y='Sleep Duration',hue='Sleep Disorder')"
   ]
  },
  {
   "cell_type": "markdown",
   "id": "cf10d9df-34c7-48c0-ad3f-dbaa3b7a1752",
   "metadata": {},
   "source": [
    "Transforming Categorical columns to numeric"
   ]
  },
  {
   "cell_type": "code",
   "execution_count": 452,
   "id": "0520dcbd-569a-40fb-8634-b3dd05c2a677",
   "metadata": {},
   "outputs": [],
   "source": [
    "oe = OrdinalEncoder()\n",
    "df[['Gender', 'BMI Category', 'Sleep Disorder']] = oe.fit_transform(df[['Gender', 'BMI Category', 'Sleep Disorder']])"
   ]
  },
  {
   "cell_type": "code",
   "execution_count": 453,
   "id": "7aeb5c9f-6fbd-43b8-bb8e-da3cb90436d8",
   "metadata": {},
   "outputs": [],
   "source": [
    "X = df.drop(columns='Sleep Disorder')\n",
    "y = df['Sleep Disorder']"
   ]
  },
  {
   "cell_type": "code",
   "execution_count": 454,
   "id": "0af586bd-f15f-4a4b-9a1e-1c114d0cf048",
   "metadata": {},
   "outputs": [],
   "source": [
    "X_train,X_test,y_train,y_test = train_test_split(X, y, test_size=0.20, random_state=42)"
   ]
  },
  {
   "cell_type": "code",
   "execution_count": 455,
   "id": "18e167ed-947c-4a9e-893d-0f466eecc3ee",
   "metadata": {},
   "outputs": [],
   "source": [
    "scaler=StandardScaler()\n",
    "X_train = scaler.fit_transform(X_train)\n",
    "X_test = scaler.transform(X_test)"
   ]
  },
  {
   "cell_type": "code",
   "execution_count": 456,
   "id": "4b8a1d4c-8f71-4908-8fb7-c3d55b3d2ae4",
   "metadata": {},
   "outputs": [],
   "source": [
    "models = {\n",
    "    'Logistic Regression': LogisticRegression(random_state=42, solver='liblinear'),  \n",
    "    'Random Forest': RandomForestClassifier(random_state=42),\n",
    "    'K-Nearest Neighbors': KNeighborsClassifier(),\n",
    "    'SVC': SVC(probability=True, random_state=42), # probability=True is needed for ROC curve\n",
    "    'XGBoost': XGBClassifier(random_state=42)\n",
    "}"
   ]
  },
  {
   "cell_type": "code",
   "execution_count": 457,
   "id": "19ad71d7-8c9f-476b-8ebb-db248ff4a2a1",
   "metadata": {},
   "outputs": [
    {
     "name": "stdout",
     "output_type": "stream",
     "text": [
      "Logistic Regression Accuracy: 0.8800\n",
      "              precision    recall  f1-score   support\n",
      "\n",
      "         0.0       0.74      0.88      0.80        16\n",
      "         1.0       0.93      0.93      0.93        43\n",
      "         2.0       0.92      0.75      0.83        16\n",
      "\n",
      "    accuracy                           0.88        75\n",
      "   macro avg       0.86      0.85      0.85        75\n",
      "weighted avg       0.89      0.88      0.88        75\n",
      "\n",
      "Random Forest Accuracy: 0.8800\n",
      "              precision    recall  f1-score   support\n",
      "\n",
      "         0.0       0.72      0.81      0.76        16\n",
      "         1.0       0.95      0.98      0.97        43\n",
      "         2.0       0.85      0.69      0.76        16\n",
      "\n",
      "    accuracy                           0.88        75\n",
      "   macro avg       0.84      0.83      0.83        75\n",
      "weighted avg       0.88      0.88      0.88        75\n",
      "\n",
      "K-Nearest Neighbors Accuracy: 0.8667\n",
      "              precision    recall  f1-score   support\n",
      "\n",
      "         0.0       0.67      0.88      0.76        16\n",
      "         1.0       0.95      0.95      0.95        43\n",
      "         2.0       0.91      0.62      0.74        16\n",
      "\n",
      "    accuracy                           0.87        75\n",
      "   macro avg       0.84      0.82      0.82        75\n",
      "weighted avg       0.88      0.87      0.87        75\n",
      "\n",
      "SVC Accuracy: 0.8800\n",
      "              precision    recall  f1-score   support\n",
      "\n",
      "         0.0       0.72      0.81      0.76        16\n",
      "         1.0       0.95      0.98      0.97        43\n",
      "         2.0       0.85      0.69      0.76        16\n",
      "\n",
      "    accuracy                           0.88        75\n",
      "   macro avg       0.84      0.83      0.83        75\n",
      "weighted avg       0.88      0.88      0.88        75\n",
      "\n",
      "XGBoost Accuracy: 0.9067\n",
      "              precision    recall  f1-score   support\n",
      "\n",
      "         0.0       0.81      0.81      0.81        16\n",
      "         1.0       0.95      0.98      0.97        43\n",
      "         2.0       0.87      0.81      0.84        16\n",
      "\n",
      "    accuracy                           0.91        75\n",
      "   macro avg       0.88      0.87      0.87        75\n",
      "weighted avg       0.91      0.91      0.91        75\n",
      "\n"
     ]
    }
   ],
   "source": [
    "for name, model in models.items():\n",
    "    model.fit(X_train, y_train)\n",
    "    y_pred = model.predict(X_test)\n",
    "    acc = accuracy_score(y_test, y_pred)\n",
    "    print(f\"{name} Accuracy: {acc:.4f}\")\n",
    "    print(classification_report(y_test, y_pred))"
   ]
  },
  {
   "cell_type": "code",
   "execution_count": 458,
   "id": "4d91c19b-81d3-4182-8890-6e9aaa83512e",
   "metadata": {},
   "outputs": [
    {
     "name": "stdout",
     "output_type": "stream",
     "text": [
      "Logistic Regression best params: {'C': 10}\n",
      "Accuracy :  0.9067\n",
      "F1-score :  0.9048\n",
      "Random Forest best params: {'max_depth': 5, 'n_estimators': 100}\n",
      "Accuracy :  0.88\n",
      "F1-score :  0.8785\n",
      "K-Nearest Neighbors best params: {'n_neighbors': 4}\n",
      "Accuracy :  0.8667\n",
      "F1-score :  0.8661\n",
      "SVC best params: {'C': 1, 'kernel': 'linear'}\n",
      "Accuracy :  0.9067\n",
      "F1-score :  0.9058\n",
      "XGBoost best params: {'max_depth': 2, 'n_estimators': 50}\n",
      "Accuracy :  0.9067\n",
      "F1-score :  0.9058\n"
     ]
    }
   ],
   "source": [
    "from sklearn.model_selection import GridSearchCV\n",
    "\n",
    "param_grid = {\n",
    "    'Logistic Regression': {\n",
    "        'C': [0.1, 1, 4, 10]\n",
    "    },\n",
    "    'Random Forest': {\n",
    "        'n_estimators': [10,20, 50, 100, 200],\n",
    "        'max_depth': [None,3, 5, 10, 15]\n",
    "    },\n",
    "    'K-Nearest Neighbors': {\n",
    "        'n_neighbors': [2,4,6,10,15,25]\n",
    "    },\n",
    "    'SVC': {\n",
    "        'C' : [1,2,5,7],\n",
    "    'kernel' : ['rbf', 'linear', 'poly','sigmoid'] \n",
    "    },\n",
    "    'XGBoost': {\n",
    "        'n_estimators': [5,10,15,50,100,200],\n",
    "        'max_depth': [2,4,10,15,20],\n",
    "     }  \n",
    "}\n",
    "\n",
    "best_models = {}\n",
    "for name, model in models.items():\n",
    "    grid = GridSearchCV(model, param_grid[name], cv=5, scoring='accuracy', n_jobs=-1)\n",
    "    grid.fit(X_train, y_train)\n",
    "    pred = grid.predict(X_test)\n",
    "    best_models[name] = grid.best_estimator_\n",
    "    print(f\"{name} best params: {grid.best_params_}\")\n",
    "    print(\"Accuracy : \", round(accuracy_score(y_test, pred),4))\n",
    "    print(\"F1-score : \", round(f1_score(y_test, pred, average='weighted'),4))"
   ]
  },
  {
   "cell_type": "markdown",
   "id": "c215a261-2dc7-4d0b-b5fe-5b4c8a7727f3",
   "metadata": {},
   "source": [
    "##### We'll be choosing XGBoost classifier model "
   ]
  },
  {
   "cell_type": "code",
   "execution_count": 474,
   "id": "146069d3-88ec-42fe-9c72-0223c11592eb",
   "metadata": {},
   "outputs": [
    {
     "data": {
      "image/png": "[encoded data removed]",
      "text/plain": [
       "<Figure size 1700x400 with 1 Axes>"
      ]
     },
     "metadata": {},
     "output_type": "display_data"
    }
   ],
   "source": [
    "rf = RandomForestClassifier(random_state=42)\n",
    "rf.fit(X_train, y_train)\n",
    "\n",
    "feat_importance = pd.DataFrame({\n",
    "    'Feature name': X.columns,\n",
    "    'Feature Importance': rf.feature_importances_\n",
    "    })\n",
    "plt.figure(figsize=(17,4))\n",
    "sns.barplot(data=feat_importance, x='Feature name', y='Feature Importance',hue='Feature name',palette='bright')\n",
    "plt.show()"
   ]
  },
  {
   "cell_type": "code",
   "execution_count": 475,
   "id": "7d2ec397-b7e7-43c5-879a-61c1c8f5da1f",
   "metadata": {},
   "outputs": [
    {
     "name": "stdout",
     "output_type": "stream",
     "text": [
      "Accuracy :  0.9067\n"
     ]
    }
   ],
   "source": [
    "xgb = XGBClassifier(random_state=42)\n",
    "xgb.fit(X_train, y_train)\n",
    "y_pred = xgb.predict(X_test)\n",
    "print(\"Accuracy : \", round(accuracy_score(y_test, y_pred),4))"
   ]
  },
  {
   "cell_type": "code",
   "execution_count": 476,
   "id": "4e6f2961-3649-446e-9614-5687d3fe86f8",
   "metadata": {},
   "outputs": [],
   "source": [
    "import pickle\n",
    "\n",
    "pickle_out = open('sleep.pkl','wb')\n",
    "pickle.dump(xgb, pickle_out)\n",
    "pickle_out.close()"
   ]
  },
  {
   "cell_type": "markdown",
   "id": "f80a959a-9772-4d31-a6d3-910032dcf672",
   "metadata": {},
   "source": [
    "*__Fin__*"
   ]
  }
 ],
 "metadata": {
  "kernelspec": {
   "display_name": "Python 3 (ipykernel)",
   "language": "python",
   "name": "python3"
  },
  "language_info": {
   "codemirror_mode": {
    "name": "ipython",
    "version": 3
   },
   "file_extension": ".py",
   "mimetype": "text/x-python",
   "name": "python",
   "nbconvert_exporter": "python",
   "pygments_lexer": "ipython3",
   "version": "3.12.4"
  }
 },
 "nbformat": 4,
 "nbformat_minor": 5
}
